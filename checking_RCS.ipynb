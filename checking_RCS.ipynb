{
 "cells": [
  {
   "cell_type": "markdown",
   "metadata": {},
   "source": [
    "# Checking Reaction Control System"
   ]
  },
  {
   "cell_type": "code",
   "execution_count": 1,
   "metadata": {},
   "outputs": [],
   "source": [
    "using LinearAlgebra\n",
    "include(\"Params.jl\");\n",
    "include(\"SphereConeVehicleModel.jl\");"
   ]
  },
  {
   "cell_type": "markdown",
   "metadata": {},
   "source": [
    "## Design parameters"
   ]
  },
  {
   "cell_type": "code",
   "execution_count": 2,
   "metadata": {},
   "outputs": [],
   "source": [
    "params = Dict(\"r_min\" => 0.20, # smallest radius of the cone [m]\n",
    "              \"r_max\" => 1.30, # largest radius of the cone [m]\n",
    "              \"δ\" => 40 / 360 * 2 * pi, # opening angle of the cone [rad]\n",
    "              \"m\" => 569.7, # mass of the Phoenix entry system [kg]\n",
    "              \"x_g\" => 0.20, # axial center-of-gravity location [m]\n",
    "              \"c\" => 1.20, # distance between the radial axis and the cluster of thrusters[m]\n",
    "              \"Jxx\" => 293.15, # Phoenix entry system [kg.m^2]\n",
    "              \"Jyy\" => 184, # Phoenix entry system [kg.m^2]\n",
    "              \"Jzz\" => 208.02, # Phoenix entry system [kg.m^2]\n",
    "              \"Jxy\" => 0.451, # Phoenix entry system [kg.m^2]\n",
    "              \"Jxz\" => -4.424, # Phoenix entry system [kg.m^2] \n",
    "              \"Jyz\" => 0.372, # Phoenix entry system [kg.m^2]\n",
    "              \"g\" => 3.711, # Mars gravity [m^2.s^-1]\n",
    "              \"h\" => 10800, # Atmospheric Scale Height [m]\n",
    "              \"ρ_0\" => 0.020, # Surface density of Mars atmosphere [kg.m^-3]\n",
    "              \"r_p\" => 3389.5e3, # Volumetric mean radius of Mars [m]\n",
    "              \"ω_p\" => [0, 0, 7.088e-05]) # Angular velocity of Mars [rad.s^-1]\n",
    "complete_params!(params);"
   ]
  },
  {
   "cell_type": "markdown",
   "metadata": {},
   "source": [
    "## Simplified Dynamics Model\n",
    "- We assume flat planet model, gravity acceleration is directed along the x axis.\n",
    "- We assume constant uniform of the atmosphere.\n",
    "- We assume that the fluid is static."
   ]
  },
  {
   "cell_type": "code",
   "execution_count": 3,
   "metadata": {},
   "outputs": [
    {
     "data": {
      "text/plain": [
       "13-element Array{Float64,1}:\n",
       "   -3.5145e6\n",
       "    0.0     \n",
       "    0.0     \n",
       "    1.0     \n",
       "    0.0     \n",
       "    0.0     \n",
       "    0.0     \n",
       " 5500.0     \n",
       "    0.0     \n",
       "    0.0     \n",
       "    0.0     \n",
       "    0.0     \n",
       "    0.0     "
      ]
     },
     "execution_count": 3,
     "metadata": {},
     "output_type": "execute_result"
    }
   ],
   "source": [
    "# Initial conditions\n",
    "\n",
    "# Iniitial altitude\n",
    "x_0 = - 125000.0 - 3389.5e3\n",
    "\n",
    "# Initial speed\n",
    "v_0 = 5500 * [1, 0, 0]\n",
    "\n",
    "# Initial orientation\n",
    "q_0 = [1, 0, 0, 0]\n",
    "# q_0 = [0.999, 0, 0, 0.04]\n",
    "q_0 = q_0 / norm(q_0)\n",
    "    \n",
    "# Initial state\n",
    "X_0 = [x_0, 0, 0, q_0[1], q_0[2], q_0[3], q_0[4], v_0[1], v_0[2], v_0[3], 0, 0, 0]"
   ]
  },
  {
   "cell_type": "markdown",
   "metadata": {},
   "source": [
    "## Derivative "
   ]
  },
  {
   "cell_type": "code",
   "execution_count": 5,
   "metadata": {},
   "outputs": [
    {
     "name": "stdout",
     "output_type": "stream",
     "text": [
      "0\n",
      "F_c[0, 0, 0]\n",
      "τ_c[0.0, 0.0, 0.0]\n"
     ]
    },
    {
     "data": {
      "text/plain": [
       "13×1 Array{Float64,2}:\n",
       "  5500.0                   \n",
       "     0.0                   \n",
       "     0.0                   \n",
       "     0.0                   \n",
       "     0.0                   \n",
       "     0.0                   \n",
       "     0.0                   \n",
       " -2365.041489000541        \n",
       "     1.8019127996552356e-13\n",
       "    -8.61274399104624e-5   \n",
       "     2.2335877525113652e-14\n",
       "     0.00025174365543017413\n",
       "    -1.1242769923378171e-7 "
      ]
     },
     "execution_count": 5,
     "metadata": {},
     "output_type": "execute_result"
    }
   ],
   "source": [
    "u = [0, 0, 0, \n",
    "     0, 0, 0, \n",
    "     0, 0, 0,\n",
    "     0, 0, 0]\n",
    "X_dot = entry_vehicle_simplified_dynamics(X_0, u, params)"
   ]
  }
 ],
 "metadata": {
  "@webio": {
   "lastCommId": "fd5f5a32d4a74795949acf6f3ebe9a50",
   "lastKernelId": "1e067ee1-7fbb-415f-8ae9-f55d7294883d"
  },
  "kernelspec": {
   "display_name": "Julia 1.0.1",
   "language": "julia",
   "name": "julia-1.0"
  },
  "language_info": {
   "file_extension": ".jl",
   "mimetype": "application/julia",
   "name": "julia",
   "version": "1.0.1"
  }
 },
 "nbformat": 4,
 "nbformat_minor": 2
}
