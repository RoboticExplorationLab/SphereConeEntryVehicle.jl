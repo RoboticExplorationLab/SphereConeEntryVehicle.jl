{
 "cells": [
  {
   "cell_type": "markdown",
   "metadata": {},
   "source": [
    "# Stability analysis"
   ]
  },
  {
   "cell_type": "markdown",
   "metadata": {},
   "source": [
    "# Computing the Jacobian Matrix at the Equilibrium Point "
   ]
  },
  {
   "cell_type": "code",
   "execution_count": 71,
   "metadata": {},
   "outputs": [
    {
     "data": {
      "text/plain": [
       "entry_vehicle_simplified_dynamics (generic function with 1 method)"
      ]
     },
     "execution_count": 71,
     "metadata": {},
     "output_type": "execute_result"
    }
   ],
   "source": [
    "using ForwardDiff\n",
    "using LinearAlgebra\n",
    "using PyCall\n",
    "using PyPlot\n",
    "include(\"../scripts/AerodynamicsModel.jl\")\n",
    "include(\"../scripts/Params.jl\")\n",
    "include(\"../scripts/SphereConeVehicleModel.jl\")"
   ]
  },
  {
   "cell_type": "markdown",
   "metadata": {},
   "source": [
    "## Parameters"
   ]
  },
  {
   "cell_type": "code",
   "execution_count": 79,
   "metadata": {},
   "outputs": [],
   "source": [
    "params = Dict(\"r_min\" => 0.001, # smallest radius of the cone [m]\n",
    "              \"r_max\" => 1.30, # largest radius of the cone [m]\n",
    "              \"δ\" => 45 / 360 * 2 * pi, # opening angle of the cone [rad]\n",
    "              \"m\" => 569.7, # mass of the Phoenix entry system [kg]\n",
    "              \"x_g\" => -0.150, # axial center-of-gravity location [m]\n",
    "              \"c\" => 1.20, # distance between the radial axis and the cluster of thrusters[m]\n",
    "              \"F_max\" => 36.0, # maximum force applied by the thrusters [N]\n",
    "              \"Jxx\" => 293.15, # Phoenix entry system [kg.m^2]\n",
    "              \"Jyy\" => 184, # Phoenix entry system [kg.m^2]\n",
    "              \"Jzz\" => 208.02, # Phoenix entry system [kg.m^2]\n",
    "              \"Jxy\" => 0.451, # Phoenix entry system [kg.m^2]\n",
    "              \"Jxz\" => -4.424, # Phoenix entry system [kg.m^2] \n",
    "              \"Jyz\" => 0.372, # Phoenix entry system [kg.m^2]\n",
    "              \"g\" => 3.711, # Mars gravity [m^2.s^-1]\n",
    "              \"h\" => 10800, # Atmospheric Scale Height [m]\n",
    "              \"ρ_0\" => 0.020, # Surface density of Mars atmosphere [kg.m^-3]\n",
    "              \"r_p\" => 3389.5e3, # Volumetric mean radius of Mars [m]\n",
    "              \"ω_p\" => [0, 0, 7.088e-05]) # Angular velocity of Mars [rad.s^-1]\n",
    "complete_params!(params);"
   ]
  },
  {
   "cell_type": "markdown",
   "metadata": {},
   "source": [
    "## Equilibrium Point definition"
   ]
  },
  {
   "cell_type": "code",
   "execution_count": 80,
   "metadata": {},
   "outputs": [
    {
     "data": {
      "text/plain": [
       "13-element Array{Float64,1}:\n",
       "   -3.5145e6\n",
       "    0.0     \n",
       "    0.0     \n",
       "    1.0     \n",
       "    0.0     \n",
       "    0.0     \n",
       "    0.0     \n",
       " 5500.0     \n",
       "    0.0     \n",
       "    0.0     \n",
       "    0.0     \n",
       "    0.0     \n",
       "    0.0     "
      ]
     },
     "execution_count": 80,
     "metadata": {},
     "output_type": "execute_result"
    }
   ],
   "source": [
    "# Iniitial altitude\n",
    "x_0 = - 125000.0 - 3389.5e3\n",
    "\n",
    "# Initial speed\n",
    "v_0 = 5500 * [1, 0, 0]\n",
    "\n",
    "# Initial orientation\n",
    "q_0 = [1, 0, 0, 0]\n",
    "# q_0 = [0.999, 0, 0, 0.04]\n",
    "q_0 = q_0 / norm(q_0)\n",
    "    \n",
    "# Initial state\n",
    "X_0 = [x_0, 0, 0, q_0[1], q_0[2], q_0[3], q_0[4], v_0[1], v_0[2], v_0[3], 0, 0, 0]"
   ]
  },
  {
   "cell_type": "markdown",
   "metadata": {},
   "source": [
    "## Simplified Dynamics Model\n",
    "- We assume flat planet model, gravity acceleration is directed along the x axis.\n",
    "- We assume constant uniform of the atmosphere.\n",
    "- We assume that the fluid is static."
   ]
  },
  {
   "cell_type": "markdown",
   "metadata": {},
   "source": [
    "## ForwardDiff Jacobian"
   ]
  },
  {
   "cell_type": "code",
   "execution_count": 81,
   "metadata": {},
   "outputs": [
    {
     "data": {
      "text/plain": [
       "10-element Array{Complex{Float64},1}:\n",
       "                     0.0 + 0.0im              \n",
       "                     0.0 + 0.0im              \n",
       "   1.5163176581012294e-7 + 49.73032010837139im\n",
       "   1.5163176581012294e-7 - 49.73032010837139im\n",
       "   1.5163177025101504e-7 + 49.73031462109581im\n",
       "   1.5163177025101504e-7 - 49.73031462109581im\n",
       "  -4.434989437077981e-16 + 0.0im              \n",
       "     -0.5125699903925122 + 0.0im              \n",
       "     -0.5125699903925128 + 0.0im              \n",
       " -1.3050957308954483e-18 + 0.0im              "
      ]
     },
     "execution_count": 81,
     "metadata": {},
     "output_type": "execute_result"
    }
   ],
   "source": [
    "function open_loop_entry_vehicle_simplified_dynamics(X::Vector)\n",
    "    u = zeros(12,1)\n",
    "    ẋ = X - X\n",
    "    entry_vehicle_simplified_dynamics!(ẋ, X, u, params)\n",
    "end\n",
    "\n",
    "function forward_diff_jacobian(open_loop_entry_vehicle_simplified_dynamics, X_eq)\n",
    "    A = ForwardDiff.jacobian(open_loop_entry_vehicle_simplified_dynamics, X_0)\n",
    "    return A\n",
    "end\n",
    "\n",
    "function jacobian_eigenvalues(open_loop_entry_vehicle_simplified_dynamics, X_0, removed_indexes)\n",
    "    A = forward_diff_jacobian(open_loop_entry_vehicle_simplified_dynamics, X_0)\n",
    "    A_filtered = A[setdiff(1:end, removed_indexes), setdiff(1:end, removed_indexes)]\n",
    "    eigenvalues = eigvals(A_filtered)\n",
    "    return A, A_filtered, eigenvalues\n",
    "end\n",
    "\n",
    "removed_indexes = [1, 4, 8]\n",
    "A, A_filtered, eigenvalues = jacobian_eigenvalues(open_loop_entry_vehicle_simplified_dynamics, X_0, removed_indexes)\n",
    "eigenvalues"
   ]
  },
  {
   "cell_type": "code",
   "execution_count": 82,
   "metadata": {
    "scrolled": true
   },
   "outputs": [
    {
     "data": {
      "text/plain": [
       "10×2 Array{Complex{Float64},2}:\n",
       "     0.707205+0.0im     0.629348+0.0im\n",
       "    -0.707008+0.0im    -0.629172+0.0im\n",
       "  -5.07488e-7+0.0im  4.70227e-14+0.0im\n",
       " -2.85052e-20+0.0im  -2.93146e-5+0.0im\n",
       " -2.85132e-20+0.0im  -2.93228e-5+0.0im\n",
       " -3.13645e-16+0.0im    -0.322585+0.0im\n",
       "  3.13557e-16+0.0im     0.322495+0.0im\n",
       "   -9.013e-40+0.0im  6.98192e-22+0.0im\n",
       "  1.99484e-24+0.0im   3.00516e-5+0.0im\n",
       "  7.84265e-25+0.0im   3.00599e-5+0.0im"
      ]
     },
     "execution_count": 82,
     "metadata": {},
     "output_type": "execute_result"
    }
   ],
   "source": [
    "eigvecs(A_filtered)[:, 7:8]"
   ]
  },
  {
   "cell_type": "markdown",
   "metadata": {},
   "source": [
    "## Finite Difference Jacobian"
   ]
  },
  {
   "cell_type": "code",
   "execution_count": 83,
   "metadata": {},
   "outputs": [
    {
     "data": {
      "text/plain": [
       "10-element Array{Complex{Float64},1}:\n",
       "                     0.0 + 0.0im               \n",
       "                     0.0 + 0.0im               \n",
       "    1.516322827299632e-7 + 49.730320108296716im\n",
       "    1.516322827299632e-7 - 49.730320108296716im\n",
       "   1.5163228539449847e-7 + 49.73031462102122im \n",
       "   1.5163228539449847e-7 - 49.73031462102122im \n",
       "     -0.5125699903935347 + 0.0im               \n",
       "      -0.512569990393537 + 0.0im               \n",
       " -2.4128236393795028e-14 + 0.0im               \n",
       "   2.168259135608778e-14 + 0.0im               "
      ]
     },
     "execution_count": 83,
     "metadata": {},
     "output_type": "execute_result"
    }
   ],
   "source": [
    "function finite_difference_jacobian(open_loop_entry_vehicle_simplified_dynamics, X_eq, ψ)\n",
    "    n = length(X_eq)\n",
    "    jacobian = zeros((n,n))\n",
    "    for i=1:n\n",
    "        d_X = zeros(n)\n",
    "        d_X[i] = ψ\n",
    "        d_X_dot_plus = open_loop_entry_vehicle_simplified_dynamics(X_eq + d_X) \n",
    "        d_X_dot_minus = open_loop_entry_vehicle_simplified_dynamics(X_eq - d_X) \n",
    "        X_dot = (d_X_dot_plus - d_X_dot_minus) ./(2*ψ) \n",
    "        jacobian[:, i] = X_dot\n",
    "    end\n",
    "    return jacobian \n",
    "end\n",
    "\n",
    "function finite_difference_jacobian_eigenvalues(open_loop_entry_vehicle_simplified_dynamics, X_0, ψ, removed_indexes)\n",
    "    A = finite_difference_jacobian(open_loop_entry_vehicle_simplified_dynamics, X_0, ψ)\n",
    "    A_filtered = A[setdiff(1:end, removed_indexes), setdiff(1:end, removed_indexes)]\n",
    "    eigenvalues = eigvals(A_filtered)\n",
    "    return A, eigenvalues\n",
    "end\n",
    "\n",
    "ψ = 1e-6\n",
    "finite_difference_jacobian_eigenvalues(open_loop_entry_vehicle_simplified_dynamics, X_0, ψ, removed_indexes)[2]"
   ]
  },
  {
   "cell_type": "markdown",
   "metadata": {},
   "source": [
    "# Plot the maximum real part of eigenvalues "
   ]
  },
  {
   "cell_type": "code",
   "execution_count": 112,
   "metadata": {},
   "outputs": [
    {
     "data": {
      "text/plain": [
       "max_eigenvalue (generic function with 1 method)"
      ]
     },
     "execution_count": 112,
     "metadata": {},
     "output_type": "execute_result"
    }
   ],
   "source": [
    "function plot_eigenvalues(params, removed_indexes, num_nodes; display=true)\n",
    "    δ_vect = range(10, stop=80, length=num_nodes) / 360 * 2 * pi\n",
    "    num_x_g = 7\n",
    "    x_g_vect = range(-0.4, stop=0.8, length=num_x_g)\n",
    "\n",
    "    max_eig = zeros(num_nodes)\n",
    "    for j=1:num_x_g\n",
    "        x_g = x_g_vect[j]\n",
    "        params[\"x_g\"] = x_g\n",
    "        for i=1:num_nodes\n",
    "            δ = δ_vect[i]\n",
    "            params[\"δ\"] = δ\n",
    "            complete_params!(params)\n",
    "            A = forward_diff_jacobian(open_loop_entry_vehicle_simplified_dynamics, X_0)\n",
    "            A_filtered = A[setdiff(1:end, removed_indexes), setdiff(1:end, removed_indexes)]\n",
    "            max_eig[i] = max_eigenvalue(A_filtered)\n",
    "    #         println(\"max_eig \", max_eig[i], \"  delta  \", δ*(360/2/pi))\n",
    "        end\n",
    "        plot(δ_vect.*(360/2/pi), max_eig, color=\"blue\", linewidth=2.0, linestyle=\"-\", \n",
    "            label=string(\"x_g = \", string(x_g)), alpha=0.1*j)\n",
    "        legend()\n",
    "    end\n",
    "    xlabel(\"δ\")\n",
    "    title(\"Max real part eigenvalue for a varying cone opening angle.\")\n",
    "    grid(\"on\")\n",
    "    ylim((-1, 1))\n",
    "    if display \n",
    "        tight_layout()\n",
    "        show()\n",
    "    end\n",
    "    return\n",
    "end\n",
    "\n",
    "function max_eigenvalue(A_filtered)\n",
    "    real_parts = real.(eigvals(A_filtered))\n",
    "    max_eig = -Inf\n",
    "    ϵ = 1e-5\n",
    "    for i=1:length(real_parts)\n",
    "        if abs(real_parts[i]) > ϵ && real_parts[i] > max_eig\n",
    "            max_eig = real_parts[i]\n",
    "        end\n",
    "    end\n",
    "    return max_eig\n",
    "end"
   ]
  },
  {
   "cell_type": "code",
   "execution_count": 113,
   "metadata": {
    "scrolled": false
   },
   "outputs": [
    {
     "data": {
      "image/png": "[encoded data removed]",
      "text/plain": [
       "Figure(PyObject <Figure size 640x480 with 1 Axes>)"
      ]
     },
     "metadata": {},
     "output_type": "display_data"
    }
   ],
   "source": [
    "num_nodes = 100\n",
    "removed_indexes = [1, 4, 8]\n",
    "plot_eigenvalues(params, removed_indexes, num_nodes)"
   ]
  },
  {
   "cell_type": "code",
   "execution_count": null,
   "metadata": {},
   "outputs": [],
   "source": []
  },
  {
   "cell_type": "code",
   "execution_count": null,
   "metadata": {},
   "outputs": [],
   "source": []
  },
  {
   "cell_type": "code",
   "execution_count": null,
   "metadata": {},
   "outputs": [],
   "source": []
  },
  {
   "cell_type": "code",
   "execution_count": null,
   "metadata": {},
   "outputs": [],
   "source": []
  },
  {
   "cell_type": "code",
   "execution_count": null,
   "metadata": {},
   "outputs": [],
   "source": []
  },
  {
   "cell_type": "code",
   "execution_count": null,
   "metadata": {},
   "outputs": [],
   "source": []
  },
  {
   "cell_type": "code",
   "execution_count": null,
   "metadata": {},
   "outputs": [],
   "source": []
  },
  {
   "cell_type": "code",
   "execution_count": null,
   "metadata": {},
   "outputs": [],
   "source": []
  },
  {
   "cell_type": "code",
   "execution_count": null,
   "metadata": {},
   "outputs": [],
   "source": []
  },
  {
   "cell_type": "markdown",
   "metadata": {},
   "source": [
    "## Center of pressure and center of mass"
   ]
  },
  {
   "cell_type": "code",
   "execution_count": 64,
   "metadata": {},
   "outputs": [
    {
     "ename": "UndefVarError",
     "evalue": "UndefVarError: aerodynamics_coefficents not defined",
     "output_type": "error",
     "traceback": [
      "UndefVarError: aerodynamics_coefficents not defined",
      "",
      "Stacktrace:",
      " [1] #plot_center_of_pressure#47(::Bool, ::Function, ::Dict{String,Any}, ::Int64) at ./In[64]:11",
      " [2] (::getfield(Main, Symbol(\"#kw##plot_center_of_pressure\")))(::NamedTuple{(:display,),Tuple{Bool}}, ::typeof(plot_center_of_pressure), ::Dict{String,Any}, ::Int64) at ./none:0",
      " [3] top-level scope at In[64]:29"
     ]
    }
   ],
   "source": [
    "function plot_center_of_pressure(params, num_nodes; display=true)\n",
    "    r_max = params[\"r_max\"]\n",
    "    r_min = params[\"r_min\"]\n",
    "    l = params[\"l\"]\n",
    "    x_g = params[\"x_g\"]\n",
    "\n",
    "    α_vect = range(0.0001, stop=pi/2, length=num_nodes)\n",
    "    C_F2_vect = zeros(num_nodes, 3)\n",
    "    C_τ2_vect = zeros(num_nodes, 3)\n",
    "    for i=1:num_nodes\n",
    "        C_F2_vect[i, :], C_τ2_vect[i, :] = aerodynamics_coefficents(α_vect[i], r_max, r_min, l, x_g)\n",
    "    end\n",
    "    X_g = x_g .* ones(num_nodes)\n",
    "    X_p = X_g + C_τ2_vect[:, 3] ./ C_F2_vect[:, 2]  \n",
    "    plot(α_vect, X_g, color=\"blue\", linewidth=2.0, linestyle=\"-\", label=\"Center of mass\")\n",
    "    plot(α_vect, X_p, color=\"red\", linewidth=2.0, linestyle=\"-\", label=\"Center of pressure\")\n",
    "    legend()\n",
    "    xlabel(\"α\")\n",
    "    title(\"Center of pressure and center of mass of the vehicle.\")\n",
    "    grid(\"on\")\n",
    "    if display \n",
    "        tight_layout()\n",
    "        show()\n",
    "    end\n",
    "    return\n",
    "end\n",
    "\n",
    "num_nodes = 100\n",
    "plot_center_of_pressure(params, num_nodes; display=true)"
   ]
  },
  {
   "cell_type": "markdown",
   "metadata": {},
   "source": [
    "## Plot angle \\lambda of the aerodynamics force vector (wrt to the axis of the vehicle) for different alpha's\n",
    "It allows us to check for the stability of the vehicle. \n",
    "If the angle lambda is below alpha for a given alpha then we are stable.\n",
    "Otherwise we could have balancing effects."
   ]
  },
  {
   "cell_type": "code",
   "execution_count": 65,
   "metadata": {},
   "outputs": [
    {
     "ename": "UndefVarError",
     "evalue": "UndefVarError: aerodynamics_coefficents not defined",
     "output_type": "error",
     "traceback": [
      "UndefVarError: aerodynamics_coefficents not defined",
      "",
      "Stacktrace:",
      " [1] #plot_aerodynamics_ceofficients#48(::Bool, ::Function, ::Dict{String,Any}, ::Int64) at ./In[65]:12",
      " [2] plot_aerodynamics_ceofficients(::Dict{String,Any}, ::Int64) at ./In[65]:2",
      " [3] top-level scope at In[65]:30"
     ]
    }
   ],
   "source": [
    "function plot_aerodynamics_ceofficients(params, num_nodes; display=true)\n",
    "    r_max = params[\"r_max\"]\n",
    "    r_min = params[\"r_min\"]\n",
    "    l = params[\"l\"]\n",
    "    x_g = params[\"x_g\"]\n",
    "\n",
    "    α = range(0, stop=pi/2, length=num_nodes)\n",
    "    C_F2 = zeros(num_nodes, 3)\n",
    "    C_τ2 = zeros(num_nodes, 3)\n",
    "    λ = zeros(num_nodes)\n",
    "    for i=1:num_nodes\n",
    "        C_F2[i, :], C_τ2[i, :] = aerodynamics_coefficents(α[i], r_max, r_min, l, x_g)\n",
    "        λ[i] = atan(1 * C_F2[i, 2] / C_F2[i, 1])\n",
    "    end\n",
    "\n",
    "    plot(α, α, color=\"blue\", linewidth=2.0, linestyle=\"-\", label=\"α\")\n",
    "    plot(α, λ, color=\"red\", linewidth=2.0, linestyle=\"-\", label=\"λ\")\n",
    "    legend()\n",
    "    xlabel(\"α\")\n",
    "    title(\"Angle λ of the aerodynamics force vector (wrt to the axis of the vehicle).\")\n",
    "    grid(\"on\")\n",
    "    if display \n",
    "        tight_layout()\n",
    "        show()\n",
    "    end\n",
    "    return\n",
    "end\n",
    "\n",
    "num_nodes = 100\n",
    "plot_aerodynamics_ceofficients(params, num_nodes)"
   ]
  },
  {
   "cell_type": "markdown",
   "metadata": {},
   "source": [
    "## Plot aerodynamics coefficients"
   ]
  },
  {
   "cell_type": "code",
   "execution_count": 66,
   "metadata": {},
   "outputs": [
    {
     "ename": "UndefVarError",
     "evalue": "UndefVarError: aerodynamics_coefficents not defined",
     "output_type": "error",
     "traceback": [
      "UndefVarError: aerodynamics_coefficents not defined",
      "",
      "Stacktrace:",
      " [1] #plot_aerodynamics_ceofficients#48(::Bool, ::Function, ::Dict{String,Any}, ::Int64) at ./In[65]:12",
      " [2] (::getfield(Main, Symbol(\"#kw##plot_aerodynamics_ceofficients\")))(::NamedTuple{(:display,),Tuple{Bool}}, ::typeof(plot_aerodynamics_ceofficients), ::Dict{String,Any}, ::Int64) at ./none:0",
      " [3] top-level scope at In[66]:30"
     ]
    }
   ],
   "source": [
    "function plot_aerodynamics_ceofficients(r_max, r_min, l, x_g, num_nodes; display=true)\n",
    "    r_max = params[\"r_max\"]\n",
    "    r_min = params[\"r_min\"]\n",
    "    l = params[\"l\"]\n",
    "    x_g = params[\"x_g\"]\n",
    "    \n",
    "    α_vect = range(0, stop=pi/2, length=num_nodes)\n",
    "    C_F2_vect = zeros(num_nodes, 3)\n",
    "    C_τ2_vect = zeros(num_nodes, 3)\n",
    "    for i=1:num_nodes\n",
    "        C_F2_vect[i, :], C_τ2_vect[i, :] = aerodynamics_coefficents(α_vect[i], r_max, r_min, l, x_g)\n",
    "    end\n",
    "    plot(α_vect, C_F2_vect[:, 1], color=\"blue\", linewidth=2.0, linestyle=\"-\", label=\"C_X2_vehicle\")\n",
    "    plot(α_vect, C_F2_vect[:, 2], color=\"red\", linewidth=2.0, linestyle=\"-\", label=\"C_Y2_vehicle\")\n",
    "    plot(α_vect, C_τ2_vect[:, 3], color=\"green\", linewidth=2.0, linestyle=\"-\", label=\"C_n2_vehicle\")\n",
    "    plot(α_vect, C_F2_vect[:, 2] ./ tan.(α_vect), color=\"red\", linewidth=2.0, linestyle=\":\", label=\"C_Y2_vehicle / tan(α)\")\n",
    "    plot(α_vect, C_τ2_vect[:, 3] ./ tan.(α_vect), color=\"green\", linewidth=2.0, linestyle=\":\", label=\"C_n2_vehicle / tan(α)\")\n",
    "    legend()\n",
    "    xlabel(\"α\")\n",
    "    title(\"Aerodynamics coefficients for the vehicle.\")\n",
    "    grid(\"on\")\n",
    "    if display \n",
    "        tight_layout()\n",
    "        show()\n",
    "    end\n",
    "    return\n",
    "end\n",
    "\n",
    "num_nodes = 100\n",
    "plot_aerodynamics_ceofficients(params, num_nodes; display=true)"
   ]
  },
  {
   "cell_type": "code",
   "execution_count": null,
   "metadata": {},
   "outputs": [],
   "source": []
  },
  {
   "cell_type": "code",
   "execution_count": null,
   "metadata": {},
   "outputs": [],
   "source": []
  },
  {
   "cell_type": "code",
   "execution_count": null,
   "metadata": {},
   "outputs": [],
   "source": []
  }
 ],
 "metadata": {
  "@webio": {
   "lastCommId": "8e18de52054743408dd94b6c9145406e",
   "lastKernelId": "c70f9b38-0108-4dab-b97f-32b2504d9201"
  },
  "kernelspec": {
   "display_name": "Julia 1.0.1",
   "language": "julia",
   "name": "julia-1.0"
  },
  "language_info": {
   "file_extension": ".jl",
   "mimetype": "application/julia",
   "name": "julia",
   "version": "1.0.1"
  }
 },
 "nbformat": 4,
 "nbformat_minor": 2
}
