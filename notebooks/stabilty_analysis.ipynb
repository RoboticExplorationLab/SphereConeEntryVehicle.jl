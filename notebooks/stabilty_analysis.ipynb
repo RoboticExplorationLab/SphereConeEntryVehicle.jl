{
 "cells": [
  {
   "cell_type": "markdown",
   "metadata": {},
   "source": [
    "# Stability analysis"
   ]
  },
  {
   "cell_type": "markdown",
   "metadata": {},
   "source": [
    "# Computing the Jacobian Matrix at the Equilibrium Point "
   ]
  },
  {
   "cell_type": "code",
   "execution_count": 1,
   "metadata": {},
   "outputs": [
    {
     "data": {
      "text/plain": [
       "entry_vehicle_simplified_dynamics (generic function with 1 method)"
      ]
     },
     "execution_count": 1,
     "metadata": {},
     "output_type": "execute_result"
    }
   ],
   "source": [
    "using ForwardDiff\n",
    "using LinearAlgebra\n",
    "using PyCall\n",
    "using PyPlot\n",
    "include(\"../scripts/AerodynamicsModel.jl\")\n",
    "include(\"../scripts/Params.jl\")\n",
    "include(\"../scripts/SphereConeVehicleModel.jl\")"
   ]
  },
  {
   "cell_type": "markdown",
   "metadata": {},
   "source": [
    "## Parameters"
   ]
  },
  {
   "cell_type": "code",
   "execution_count": 16,
   "metadata": {},
   "outputs": [],
   "source": [
    "params = Dict(\"r_min\" => 0.001, # smallest radius of the cone [m]\n",
    "              \"r_max\" => 1.30, # largest radius of the cone [m]\n",
    "              \"δ\" => 40 / 360 * 2 * pi, # opening angle of the cone [rad]\n",
    "              \"m\" => 569.7, # mass of the Phoenix entry system [kg]\n",
    "              \"x_g\" => 0.10, # axial center-of-gravity location [m]\n",
    "              \"c\" => 1.20, # distance between the radial axis and the cluster of thrusters[m]\n",
    "              \"F_max\" => 36.0, # maximum force applied by the thrusters [N]\n",
    "              \"Jxx\" => 293.15, # Phoenix entry system [kg.m^2]\n",
    "              \"Jyy\" => 184, # Phoenix entry system [kg.m^2]\n",
    "              \"Jzz\" => 208.02, # Phoenix entry system [kg.m^2]\n",
    "              \"Jxy\" => 0.451, # Phoenix entry system [kg.m^2]\n",
    "              \"Jxz\" => -4.424, # Phoenix entry system [kg.m^2] \n",
    "              \"Jyz\" => 0.372, # Phoenix entry system [kg.m^2]\n",
    "              \"g\" => 3.711, # Mars gravity [m^2.s^-1]\n",
    "              \"h\" => 10800, # Atmospheric Scale Height [m]\n",
    "              \"ρ_0\" => 0.020, # Surface density of Mars atmosphere [kg.m^-3]\n",
    "              \"r_p\" => 3389.5e3, # Volumetric mean radius of Mars [m]\n",
    "              \"ω_p\" => [0, 0, 7.088e-05]) # Angular velocity of Mars [rad.s^-1]\n",
    "complete_params!(params);"
   ]
  },
  {
   "cell_type": "markdown",
   "metadata": {},
   "source": [
    "## Equilibrium Point definition"
   ]
  },
  {
   "cell_type": "code",
   "execution_count": 17,
   "metadata": {},
   "outputs": [
    {
     "data": {
      "text/plain": [
       "12-element Array{Float64,1}:\n",
       " -125000.0\n",
       "      10.0\n",
       "       0.0\n",
       "       0.0\n",
       "       0.0\n",
       "       0.0\n",
       "    5500.0\n",
       "       0.0\n",
       "       0.0\n",
       "       0.0\n",
       "       0.0\n",
       "       0.0"
      ]
     },
     "execution_count": 17,
     "metadata": {},
     "output_type": "execute_result"
    }
   ],
   "source": [
    "# Initial conditions\n",
    "\n",
    "# Iniitial altitude\n",
    "x_0 = - 125000.0\n",
    "y_0 = 10.0\n",
    "\n",
    "# Initial speed\n",
    "v_0 = 5500 * [1, 0, 0]\n",
    "\n",
    "# Initial orientation\n",
    "θ = 0.0\n",
    "r = tan(θ / 4) .* [0, 0, 1]\n",
    "\n",
    "# Initial state\n",
    "X_0 = [x_0, y_0, 0, r[1], r[2], r[3], v_0[1], v_0[2], v_0[3], 0, 0, 0]"
   ]
  },
  {
   "cell_type": "markdown",
   "metadata": {},
   "source": [
    "## Simplified Dynamics Model\n",
    "- We assume flat planet model, gravity acceleration is directed along the x axis.\n",
    "- We assume constant uniform of the atmosphere.\n",
    "- We assume that the fluid is static."
   ]
  },
  {
   "cell_type": "markdown",
   "metadata": {},
   "source": [
    "## ForwardDiff Jacobian"
   ]
  },
  {
   "cell_type": "code",
   "execution_count": 18,
   "metadata": {},
   "outputs": [
    {
     "data": {
      "text/plain": [
       "10-element Array{Complex{Float64},1}:\n",
       "                  0.0 + 0.0im               \n",
       "                  0.0 + 0.0im               \n",
       " -0.08900162510357834 + 56.42497151337969im \n",
       " -0.08900162510357834 - 56.42497151337969im \n",
       " -0.42357322901906563 + 0.0im               \n",
       "  -0.0890016251035779 + 56.424971513379674im\n",
       "  -0.0890016251035779 - 56.424971513379674im\n",
       " -0.42357322901906586 + 0.0im               \n",
       "                  0.0 + 0.0im               \n",
       "                  0.0 + 0.0im               "
      ]
     },
     "execution_count": 18,
     "metadata": {},
     "output_type": "execute_result"
    }
   ],
   "source": [
    "function open_loop_entry_vehicle_simplified_dynamics(X::Vector)\n",
    "    u = zeros(12,1)\n",
    "    ẋ = X - X\n",
    "    entry_vehicle_simplified_dynamics!(ẋ, X, u, params)\n",
    "end\n",
    "\n",
    "function forward_diff_jacobian(open_loop_entry_vehicle_simplified_dynamics, X_eq)\n",
    "    A = ForwardDiff.jacobian(open_loop_entry_vehicle_simplified_dynamics, X_0)\n",
    "    return A\n",
    "end\n",
    "\n",
    "function jacobian_eigenvalues(open_loop_entry_vehicle_simplified_dynamics, X_0, removed_indexes)\n",
    "    A = forward_diff_jacobian(open_loop_entry_vehicle_simplified_dynamics, X_0)\n",
    "    A_filtered = A[setdiff(1:end, removed_indexes), setdiff(1:end, removed_indexes)]\n",
    "    eigenvalues = eigvals(A_filtered)\n",
    "    return A, A_filtered, eigenvalues\n",
    "end\n",
    "\n",
    "removed_indexes = [1, 7]\n",
    "A, A_filtered, eigenvalues = jacobian_eigenvalues(open_loop_entry_vehicle_simplified_dynamics, X_0, removed_indexes)\n",
    "eigenvalues"
   ]
  },
  {
   "cell_type": "code",
   "execution_count": 19,
   "metadata": {
    "scrolled": true
   },
   "outputs": [
    {
     "data": {
      "text/plain": [
       "10×2 Array{Complex{Float64},2}:\n",
       "  -2.4092e-5-0.00406321im     -0.64095+0.0im\n",
       "  2.95564e-5-0.0032592im     -0.661106+0.0im\n",
       "         0.0+0.0im                 0.0+0.0im\n",
       "  4.39185e-5-0.00264944im  -1.27278e-5+0.0im\n",
       " -5.21061e-6+0.00330341im   1.23397e-5+0.0im\n",
       "   -0.229264+0.00172102im     0.271489+0.0im\n",
       "   -0.183903-0.00137765im     0.280027+0.0im\n",
       "         0.0+0.0im                 0.0+0.0im\n",
       "   -0.597995-0.00896918im   2.15646e-5+0.0im\n",
       "     0.74558-0.0im         -2.09071e-5+0.0im"
      ]
     },
     "execution_count": 19,
     "metadata": {},
     "output_type": "execute_result"
    }
   ],
   "source": [
    "eigvecs(A_filtered)[:, 7:8]"
   ]
  },
  {
   "cell_type": "markdown",
   "metadata": {},
   "source": [
    "## Finite Difference Jacobian"
   ]
  },
  {
   "cell_type": "code",
   "execution_count": 20,
   "metadata": {},
   "outputs": [
    {
     "data": {
      "text/plain": [
       "10-element Array{Complex{Float64},1}:\n",
       "                  0.0 + 0.0im               \n",
       "                  0.0 + 0.0im               \n",
       " -0.08900162510045928 + 56.424971513069345im\n",
       " -0.08900162510045928 - 56.424971513069345im\n",
       " -0.42357322902530237 + 0.0im               \n",
       "  -0.4235732290253019 + 0.0im               \n",
       " -0.08900162510046083 + 56.42497151306934im \n",
       " -0.08900162510046083 - 56.42497151306934im \n",
       "                  0.0 + 0.0im               \n",
       "                  0.0 + 0.0im               "
      ]
     },
     "execution_count": 20,
     "metadata": {},
     "output_type": "execute_result"
    }
   ],
   "source": [
    "function finite_difference_jacobian(open_loop_entry_vehicle_simplified_dynamics, X_eq, ψ)\n",
    "    n = length(X_eq)\n",
    "    jacobian = zeros((n,n))\n",
    "    for i=1:n\n",
    "        d_X = zeros(n)\n",
    "        d_X[i] = ψ\n",
    "        d_X_dot_plus = open_loop_entry_vehicle_simplified_dynamics(X_eq + d_X) \n",
    "        d_X_dot_minus = open_loop_entry_vehicle_simplified_dynamics(X_eq - d_X) \n",
    "        X_dot = (d_X_dot_plus - d_X_dot_minus) ./(2*ψ) \n",
    "        jacobian[:, i] = X_dot\n",
    "    end\n",
    "    return jacobian \n",
    "end\n",
    "\n",
    "function finite_difference_jacobian_eigenvalues(open_loop_entry_vehicle_simplified_dynamics, X_0, ψ, removed_indexes)\n",
    "    A = finite_difference_jacobian(open_loop_entry_vehicle_simplified_dynamics, X_0, ψ)\n",
    "    A_filtered = A[setdiff(1:end, removed_indexes), setdiff(1:end, removed_indexes)]\n",
    "    eigenvalues = eigvals(A_filtered)\n",
    "    return A, eigenvalues\n",
    "end\n",
    "\n",
    "ψ = 1e-6\n",
    "finite_difference_jacobian_eigenvalues(open_loop_entry_vehicle_simplified_dynamics, X_0, ψ, removed_indexes)[2]"
   ]
  },
  {
   "cell_type": "markdown",
   "metadata": {},
   "source": [
    "# Plot the maximum real part of eigenvalues "
   ]
  },
  {
   "cell_type": "code",
   "execution_count": 21,
   "metadata": {},
   "outputs": [
    {
     "data": {
      "text/plain": [
       "max_eigenvalue (generic function with 1 method)"
      ]
     },
     "execution_count": 21,
     "metadata": {},
     "output_type": "execute_result"
    }
   ],
   "source": [
    "function plot_eigenvalues(params, removed_indexes, num_nodes; display=true)\n",
    "    δ_vect = range(10, stop=80, length=num_nodes) / 360 * 2 * pi\n",
    "    num_x_g = 7\n",
    "    x_g_vect = range(-0.4, stop=0.8, length=num_x_g)\n",
    "\n",
    "    max_eig = zeros(num_nodes)\n",
    "    for j=1:num_x_g\n",
    "        x_g = x_g_vect[j]\n",
    "        params[\"x_g\"] = x_g\n",
    "        for i=1:num_nodes\n",
    "            δ = δ_vect[i]\n",
    "            params[\"δ\"] = δ\n",
    "            complete_params!(params)\n",
    "            A = forward_diff_jacobian(open_loop_entry_vehicle_simplified_dynamics, X_0)\n",
    "            A_filtered = A[setdiff(1:end, removed_indexes), setdiff(1:end, removed_indexes)]\n",
    "            max_eig[i] = max_eigenvalue(A_filtered)\n",
    "    #         println(\"max_eig \", max_eig[i], \"  delta  \", δ*(360/2/pi))\n",
    "        end\n",
    "        plot(δ_vect.*(360/2/pi), max_eig, color=\"blue\", linewidth=2.0, linestyle=\"-\", \n",
    "            label=string(\"x_g = \", string(x_g)), alpha=0.1*j)\n",
    "        legend()\n",
    "    end\n",
    "    xlabel(\"δ\")\n",
    "    title(\"Max real part eigenvalue for a varying cone opening angle.\")\n",
    "    grid(\"on\")\n",
    "    ylim((-1, 1))\n",
    "    if display \n",
    "        tight_layout()\n",
    "        show()\n",
    "    end\n",
    "    return\n",
    "end\n",
    "\n",
    "function max_eigenvalue(A_filtered)\n",
    "    real_parts = real.(eigvals(A_filtered))\n",
    "    max_eig = -Inf\n",
    "    ϵ = 1e-5\n",
    "    for i=1:length(real_parts)\n",
    "        if abs(real_parts[i]) > ϵ && real_parts[i] > max_eig\n",
    "            max_eig = real_parts[i]\n",
    "        end\n",
    "    end\n",
    "    return max_eig\n",
    "end"
   ]
  },
  {
   "cell_type": "code",
   "execution_count": 22,
   "metadata": {
    "scrolled": false
   },
   "outputs": [
    {
     "data": {
      "image/png": "[encoded data removed]",
      "text/plain": [
       "Figure(PyObject <Figure size 640x480 with 1 Axes>)"
      ]
     },
     "metadata": {},
     "output_type": "display_data"
    }
   ],
   "source": [
    "num_nodes = 100\n",
    "removed_indexes = [1, 7]\n",
    "plot_eigenvalues(params, removed_indexes, num_nodes)"
   ]
  },
  {
   "cell_type": "code",
   "execution_count": null,
   "metadata": {},
   "outputs": [],
   "source": []
  },
  {
   "cell_type": "code",
   "execution_count": null,
   "metadata": {},
   "outputs": [],
   "source": []
  },
  {
   "cell_type": "code",
   "execution_count": null,
   "metadata": {},
   "outputs": [],
   "source": []
  },
  {
   "cell_type": "code",
   "execution_count": null,
   "metadata": {},
   "outputs": [],
   "source": []
  },
  {
   "cell_type": "code",
   "execution_count": null,
   "metadata": {},
   "outputs": [],
   "source": []
  },
  {
   "cell_type": "code",
   "execution_count": null,
   "metadata": {},
   "outputs": [],
   "source": []
  },
  {
   "cell_type": "code",
   "execution_count": null,
   "metadata": {},
   "outputs": [],
   "source": []
  },
  {
   "cell_type": "code",
   "execution_count": null,
   "metadata": {},
   "outputs": [],
   "source": []
  },
  {
   "cell_type": "code",
   "execution_count": null,
   "metadata": {},
   "outputs": [],
   "source": []
  },
  {
   "cell_type": "markdown",
   "metadata": {},
   "source": [
    "## Center of pressure and center of mass"
   ]
  },
  {
   "cell_type": "code",
   "execution_count": 9,
   "metadata": {},
   "outputs": [
    {
     "ename": "UndefVarError",
     "evalue": "UndefVarError: aerodynamics_coefficents not defined",
     "output_type": "error",
     "traceback": [
      "UndefVarError: aerodynamics_coefficents not defined",
      "",
      "Stacktrace:",
      " [1] #plot_center_of_pressure#16(::Bool, ::Function, ::Dict{String,Any}, ::Int64) at ./In[9]:11",
      " [2] (::getfield(Main, Symbol(\"#kw##plot_center_of_pressure\")))(::NamedTuple{(:display,),Tuple{Bool}}, ::typeof(plot_center_of_pressure), ::Dict{String,Any}, ::Int64) at ./none:0",
      " [3] top-level scope at In[9]:29"
     ]
    }
   ],
   "source": [
    "function plot_center_of_pressure(params, num_nodes; display=true)\n",
    "    r_max = params[\"r_max\"]\n",
    "    r_min = params[\"r_min\"]\n",
    "    l = params[\"l\"]\n",
    "    x_g = params[\"x_g\"]\n",
    "\n",
    "    α_vect = range(0.0001, stop=pi/2, length=num_nodes)\n",
    "    C_F2_vect = zeros(num_nodes, 3)\n",
    "    C_τ2_vect = zeros(num_nodes, 3)\n",
    "    for i=1:num_nodes\n",
    "        C_F2_vect[i, :], C_τ2_vect[i, :] = aerodynamics_coefficents(α_vect[i], r_max, r_min, l, x_g)\n",
    "    end\n",
    "    X_g = x_g .* ones(num_nodes)\n",
    "    X_p = X_g + C_τ2_vect[:, 3] ./ C_F2_vect[:, 2]  \n",
    "    plot(α_vect, X_g, color=\"blue\", linewidth=2.0, linestyle=\"-\", label=\"Center of mass\")\n",
    "    plot(α_vect, X_p, color=\"red\", linewidth=2.0, linestyle=\"-\", label=\"Center of pressure\")\n",
    "    legend()\n",
    "    xlabel(\"α\")\n",
    "    title(\"Center of pressure and center of mass of the vehicle.\")\n",
    "    grid(\"on\")\n",
    "    if display \n",
    "        tight_layout()\n",
    "        show()\n",
    "    end\n",
    "    return\n",
    "end\n",
    "\n",
    "num_nodes = 100\n",
    "plot_center_of_pressure(params, num_nodes; display=true)"
   ]
  },
  {
   "cell_type": "markdown",
   "metadata": {},
   "source": [
    "## Plot angle \\lambda of the aerodynamics force vector (wrt to the axis of the vehicle) for different alpha's\n",
    "It allows us to check for the stability of the vehicle. \n",
    "If the angle lambda is below alpha for a given alpha then we are stable.\n",
    "Otherwise we could have balancing effects."
   ]
  },
  {
   "cell_type": "code",
   "execution_count": 10,
   "metadata": {},
   "outputs": [
    {
     "ename": "UndefVarError",
     "evalue": "UndefVarError: aerodynamics_coefficents not defined",
     "output_type": "error",
     "traceback": [
      "UndefVarError: aerodynamics_coefficents not defined",
      "",
      "Stacktrace:",
      " [1] #plot_aerodynamics_ceofficients#17(::Bool, ::Function, ::Dict{String,Any}, ::Int64) at ./In[10]:12",
      " [2] plot_aerodynamics_ceofficients(::Dict{String,Any}, ::Int64) at ./In[10]:2",
      " [3] top-level scope at In[10]:30"
     ]
    }
   ],
   "source": [
    "function plot_aerodynamics_ceofficients(params, num_nodes; display=true)\n",
    "    r_max = params[\"r_max\"]\n",
    "    r_min = params[\"r_min\"]\n",
    "    l = params[\"l\"]\n",
    "    x_g = params[\"x_g\"]\n",
    "\n",
    "    α = range(0, stop=pi/2, length=num_nodes)\n",
    "    C_F2 = zeros(num_nodes, 3)\n",
    "    C_τ2 = zeros(num_nodes, 3)\n",
    "    λ = zeros(num_nodes)\n",
    "    for i=1:num_nodes\n",
    "        C_F2[i, :], C_τ2[i, :] = aerodynamics_coefficents(α[i], r_max, r_min, l, x_g)\n",
    "        λ[i] = atan(1 * C_F2[i, 2] / C_F2[i, 1])\n",
    "    end\n",
    "\n",
    "    plot(α, α, color=\"blue\", linewidth=2.0, linestyle=\"-\", label=\"α\")\n",
    "    plot(α, λ, color=\"red\", linewidth=2.0, linestyle=\"-\", label=\"λ\")\n",
    "    legend()\n",
    "    xlabel(\"α\")\n",
    "    title(\"Angle λ of the aerodynamics force vector (wrt to the axis of the vehicle).\")\n",
    "    grid(\"on\")\n",
    "    if display \n",
    "        tight_layout()\n",
    "        show()\n",
    "    end\n",
    "    return\n",
    "end\n",
    "\n",
    "num_nodes = 100\n",
    "plot_aerodynamics_ceofficients(params, num_nodes)"
   ]
  },
  {
   "cell_type": "markdown",
   "metadata": {},
   "source": [
    "## Plot aerodynamics coefficients"
   ]
  },
  {
   "cell_type": "code",
   "execution_count": 11,
   "metadata": {},
   "outputs": [
    {
     "ename": "UndefVarError",
     "evalue": "UndefVarError: aerodynamics_coefficents not defined",
     "output_type": "error",
     "traceback": [
      "UndefVarError: aerodynamics_coefficents not defined",
      "",
      "Stacktrace:",
      " [1] #plot_aerodynamics_ceofficients#17(::Bool, ::Function, ::Dict{String,Any}, ::Int64) at ./In[10]:12",
      " [2] (::getfield(Main, Symbol(\"#kw##plot_aerodynamics_ceofficients\")))(::NamedTuple{(:display,),Tuple{Bool}}, ::typeof(plot_aerodynamics_ceofficients), ::Dict{String,Any}, ::Int64) at ./none:0",
      " [3] top-level scope at In[11]:30"
     ]
    }
   ],
   "source": [
    "function plot_aerodynamics_ceofficients(r_max, r_min, l, x_g, num_nodes; display=true)\n",
    "    r_max = params[\"r_max\"]\n",
    "    r_min = params[\"r_min\"]\n",
    "    l = params[\"l\"]\n",
    "    x_g = params[\"x_g\"]\n",
    "    \n",
    "    α_vect = range(0, stop=pi/2, length=num_nodes)\n",
    "    C_F2_vect = zeros(num_nodes, 3)\n",
    "    C_τ2_vect = zeros(num_nodes, 3)\n",
    "    for i=1:num_nodes\n",
    "        C_F2_vect[i, :], C_τ2_vect[i, :] = aerodynamics_coefficents(α_vect[i], r_max, r_min, l, x_g)\n",
    "    end\n",
    "    plot(α_vect, C_F2_vect[:, 1], color=\"blue\", linewidth=2.0, linestyle=\"-\", label=\"C_X2_vehicle\")\n",
    "    plot(α_vect, C_F2_vect[:, 2], color=\"red\", linewidth=2.0, linestyle=\"-\", label=\"C_Y2_vehicle\")\n",
    "    plot(α_vect, C_τ2_vect[:, 3], color=\"green\", linewidth=2.0, linestyle=\"-\", label=\"C_n2_vehicle\")\n",
    "    plot(α_vect, C_F2_vect[:, 2] ./ tan.(α_vect), color=\"red\", linewidth=2.0, linestyle=\":\", label=\"C_Y2_vehicle / tan(α)\")\n",
    "    plot(α_vect, C_τ2_vect[:, 3] ./ tan.(α_vect), color=\"green\", linewidth=2.0, linestyle=\":\", label=\"C_n2_vehicle / tan(α)\")\n",
    "    legend()\n",
    "    xlabel(\"α\")\n",
    "    title(\"Aerodynamics coefficients for the vehicle.\")\n",
    "    grid(\"on\")\n",
    "    if display \n",
    "        tight_layout()\n",
    "        show()\n",
    "    end\n",
    "    return\n",
    "end\n",
    "\n",
    "num_nodes = 100\n",
    "plot_aerodynamics_ceofficients(params, num_nodes; display=true)"
   ]
  },
  {
   "cell_type": "code",
   "execution_count": null,
   "metadata": {},
   "outputs": [],
   "source": []
  },
  {
   "cell_type": "code",
   "execution_count": null,
   "metadata": {},
   "outputs": [],
   "source": []
  },
  {
   "cell_type": "code",
   "execution_count": null,
   "metadata": {},
   "outputs": [],
   "source": []
  }
 ],
 "metadata": {
  "@webio": {
   "lastCommId": "eec37a93230445138f8c24980e6b1458",
   "lastKernelId": "33d40700-8253-4687-b7e1-2a523e6ce521"
  },
  "kernelspec": {
   "display_name": "Julia 1.0.1",
   "language": "julia",
   "name": "julia-1.0"
  },
  "language_info": {
   "file_extension": ".jl",
   "mimetype": "application/julia",
   "name": "julia",
   "version": "1.0.1"
  }
 },
 "nbformat": 4,
 "nbformat_minor": 2
}
