{
 "cells": [
  {
   "cell_type": "markdown",
   "metadata": {},
   "source": [
    "# iLQR Implementation"
   ]
  },
  {
   "cell_type": "code",
   "execution_count": 1,
   "metadata": {},
   "outputs": [],
   "source": [
    "using LinearAlgebra\n",
    "using TrajectoryOptimization\n",
    "using PyCall\n",
    "using PyPlot\n",
    "include(\"../scripts/Params.jl\");\n",
    "include(\"../scripts/SphereConeVehicleModel.jl\");"
   ]
  },
  {
   "cell_type": "markdown",
   "metadata": {},
   "source": [
    "## Design parameters"
   ]
  },
  {
   "cell_type": "code",
   "execution_count": 2,
   "metadata": {},
   "outputs": [],
   "source": [
    "params = Dict(\"r_min\" => 0.20, # smallest radius of the cone [m]\n",
    "              \"r_max\" => 1.30, # largest radius of the cone [m]\n",
    "              \"δ\" => 40 / 360 * 2 * pi, # opening angle of the cone [rad]\n",
    "              \"m\" => 569.7, # mass of the Phoenix entry system [kg]\n",
    "              \"x_g\" => 0.10, # axial center-of-gravity location [m]\n",
    "              \"c\" => 1.20, # distance between the radial axis and the cluster of thrusters[m]\n",
    "              \"F_max\" => 36.0, # maximum force applied by the thrusters [N]\n",
    "              \"Jxx\" => 293.15, # Phoenix entry system [kg.m^2]\n",
    "              \"Jyy\" => 184, # Phoenix entry system [kg.m^2]\n",
    "              \"Jzz\" => 208.02, # Phoenix entry system [kg.m^2]\n",
    "              \"Jxy\" => 0.451, # Phoenix entry system [kg.m^2]\n",
    "              \"Jxz\" => -4.424, # Phoenix entry system [kg.m^2] \n",
    "              \"Jyz\" => 0.372, # Phoenix entry system [kg.m^2]\n",
    "              \"g\" => 3.711, # Mars gravity [m^2.s^-1]\n",
    "              \"h\" => 10800, # Atmospheric Scale Height [m]\n",
    "              \"ρ_0\" => 0.020, # Surface density of Mars atmosphere [kg.m^-3]\n",
    "              \"r_p\" => 3389.5e3, # Volumetric mean radius of Mars [m]\n",
    "              \"ω_p\" => [0, 0, 7.088e-05]) # Angular velocity of Mars [rad.s^-1]\n",
    "complete_params!(params);"
   ]
  },
  {
   "cell_type": "markdown",
   "metadata": {},
   "source": [
    "## Initial conditions"
   ]
  },
  {
   "cell_type": "code",
   "execution_count": 12,
   "metadata": {},
   "outputs": [
    {
     "data": {
      "text/plain": [
       "12-element Array{Float64,1}:\n",
       "   -3.5145e6\n",
       "    0.0     \n",
       "    0.0     \n",
       "    0.0     \n",
       "    0.0     \n",
       "    0.0     \n",
       " 5500.0     \n",
       "    0.0     \n",
       "    0.0     \n",
       "    0.0     \n",
       "    0.0     \n",
       "    0.0     "
      ]
     },
     "execution_count": 12,
     "metadata": {},
     "output_type": "execute_result"
    }
   ],
   "source": [
    "# Initial conditions\n",
    "\n",
    "# Iniitial altitude\n",
    "x_0 = - 125000.0 - 3389.5e3\n",
    "\n",
    "# Initial speed\n",
    "v_0 = 5500 * [1, 0, 0]\n",
    "\n",
    "# Initial orientation\n",
    "# q_0 = [1, 0, 0, 0]\n",
    "q_0 = [1, 0, 0, 0.04]\n",
    "q_0 = q_0 / norm(q_0)\n",
    "    \n",
    "θ = 0.08\n",
    "r = tan(θ / 4) .* [0, 0, 1]\n",
    "# Initial state\n",
    "X_0_quat = [x_0, 0, 0, q_0[1], q_0[2], q_0[3], q_0[4], v_0[1], v_0[2], v_0[3], 0, 0, 0]\n",
    "X_0 = [x_0, 0, 0, r[1], r[2], r[3], v_0[1], v_0[2], v_0[3], 0, 0, 0]"
   ]
  },
  {
   "cell_type": "markdown",
   "metadata": {},
   "source": [
    "## Analytic Model"
   ]
  },
  {
   "cell_type": "code",
   "execution_count": 4,
   "metadata": {},
   "outputs": [
    {
     "data": {
      "text/plain": [
       "TrajectoryOptimization.AnalyticalModel(entry_vehicle_simplified_dynamics!, 12, 12, [0], Dict{Symbol,Any}(:evals=>0))"
      ]
     },
     "execution_count": 4,
     "metadata": {},
     "output_type": "execute_result"
    }
   ],
   "source": [
    "# Analytic Model\n",
    "function entry_vehicle_simplified_dynamics!(ẋ,x,u)\n",
    "    entry_vehicle_simplified_dynamics!(ẋ, x, u, params)\n",
    "end\n",
    "# Number of states\n",
    "n = 12\n",
    "# Number of controls\n",
    "m = 12\n",
    "\n",
    "model = Model(entry_vehicle_simplified_dynamics!, n, m)"
   ]
  },
  {
   "cell_type": "markdown",
   "metadata": {},
   "source": [
    "## Cost Function"
   ]
  },
  {
   "cell_type": "code",
   "execution_count": 5,
   "metadata": {},
   "outputs": [
    {
     "ename": "DimensionMismatch",
     "evalue": "DimensionMismatch(\"second dimension of A, 13, does not match length of x, 12\")",
     "output_type": "error",
     "traceback": [
      "DimensionMismatch(\"second dimension of A, 13, does not match length of x, 12\")",
      "",
      "Stacktrace:",
      " [1] gemv!(::Array{Float64,1}, ::Char, ::Array{Float64,2}, ::Array{Float64,1}) at /buildworker/worker/package_linux64/build/usr/share/julia/stdlib/v1.0/LinearAlgebra/src/matmul.jl:346",
      " [2] mul! at /buildworker/worker/package_linux64/build/usr/share/julia/stdlib/v1.0/LinearAlgebra/src/matmul.jl:64 [inlined]",
      " [3] * at /buildworker/worker/package_linux64/build/usr/share/julia/stdlib/v1.0/LinearAlgebra/src/matmul.jl:46 [inlined]",
      " [4] LQRCost(::Array{Float64,2}, ::Array{Float64,2}, ::Array{Float64,2}, ::Array{Float64,1}) at /home/simon/.julia/packages/TrajectoryOptimization/jc3AI/src/objective.jl:51",
      " [5] top-level scope at In[5]:18"
     ]
    }
   ],
   "source": [
    "# Cost Function\n",
    "\n",
    "# Stage cost\n",
    "Q_diag = 1e-4 * [0, 1e1, 1e1, 1e0, 1e0, 1e0, 1e0, 0, 1e-2, 1e-2, 1e0, 1e0, 1e0]\n",
    "Q = convert(Array{Float64,2}, Diagonal(Q_diag))\n",
    "\n",
    "# Control cost\n",
    "R_diag = 1e-4 * ones(12)\n",
    "R = convert(Array{Float64,2}, Diagonal(R_diag))\n",
    "\n",
    "# Final stage cost\n",
    "Qf_diag = 1e-1 * [0, 1e1, 1e1, 1e0, 1e0, 1e0, 1e0, 0, 1e-2, 1e-2, 1e0, 1e0, 1e0]\n",
    "Qf = convert(Array{Float64,2}, Diagonal(Qf_diag))\n",
    "\n",
    "# Final state objective\n",
    "xf = zeros(n)\n",
    "xf[4] = 1\n",
    "\n",
    "cost_function = LQRCost(Q, R, Qf, xf);"
   ]
  },
  {
   "cell_type": "markdown",
   "metadata": {},
   "source": [
    "## Constrained Objective"
   ]
  },
  {
   "cell_type": "code",
   "execution_count": 6,
   "metadata": {},
   "outputs": [
    {
     "ename": "UndefVarError",
     "evalue": "UndefVarError: cost_function not defined",
     "output_type": "error",
     "traceback": [
      "UndefVarError: cost_function not defined",
      "",
      "Stacktrace:",
      " [1] top-level scope at In[6]:10"
     ]
    }
   ],
   "source": [
    "# Final time \n",
    "tf = 5.0\n",
    "#Initial State\n",
    "x0 = X_0\n",
    "# Lower control bounds (m,)\n",
    "u_min = zeros(m)\n",
    "# Upper control bounds (m,)\n",
    "F_max = params[\"F_max\"]\n",
    "u_max = F_max * ones(m)\n",
    "unconstrained_objective = UnconstrainedObjective(cost_function, tf, x0, xf)\n",
    "constrained_objective = ConstrainedObjective(unconstrained_objective, \n",
    "    u_min=u_min, u_max=u_max, use_xf_equality_constraint=false);"
   ]
  },
  {
   "cell_type": "markdown",
   "metadata": {},
   "source": [
    "## Solver"
   ]
  },
  {
   "cell_type": "code",
   "execution_count": 7,
   "metadata": {},
   "outputs": [
    {
     "ename": "UndefVarError",
     "evalue": "UndefVarError: constrained_objective not defined",
     "output_type": "error",
     "traceback": [
      "UndefVarError: constrained_objective not defined",
      "",
      "Stacktrace:",
      " [1] top-level scope at In[7]:3"
     ]
    }
   ],
   "source": [
    "# Number of time steps\n",
    "N = 50\n",
    "solver = Solver(model, constrained_objective, N=N)\n",
    "# Initial control trajectory\n",
    "U0 = zeros(m, N-1);\n",
    "# Solving the problem\n",
    "results, stats = solve(solver, U0);"
   ]
  },
  {
   "cell_type": "code",
   "execution_count": 8,
   "metadata": {},
   "outputs": [
    {
     "ename": "UndefVarError",
     "evalue": "UndefVarError: solver not defined",
     "output_type": "error",
     "traceback": [
      "UndefVarError: solver not defined",
      "",
      "Stacktrace:",
      " [1] top-level scope at In[8]:85"
     ]
    }
   ],
   "source": [
    "function process_solution(solver, results, params) \n",
    "    sol_x = hcat(results.X...)'\n",
    "    sol_u = hcat(results.U...)'\n",
    "    N = solver.N\n",
    "    dt = solver.dt\n",
    "    tf = (N-1) * dt\n",
    "    sol_t = range(0.0, stop=tf, length=N)\n",
    "    N = size(sol_t)[1]\n",
    "    v = sol_x[:, 8:10]\n",
    "    q = sol_x[:, 4:7]\n",
    "    \n",
    "    V_inf = zeros(N, 3)\n",
    "    α = zeros(N)\n",
    "    altitude = zeros(N)\n",
    "    velocity_norm = zeros(N)\n",
    "\n",
    "    F_a = zeros(N, 3)\n",
    "    τ_a = zeros(N, 3)\n",
    "    F_c = zeros(N, 3)\n",
    "    τ_c = zeros(N, 3)\n",
    "    F = zeros(N, 3)\n",
    "    τ = zeros(N, 3)\n",
    "    F_a_norm = zeros(N)\n",
    "    τ_a_norm = zeros(N)\n",
    "    F_c_norm = zeros(N)\n",
    "    τ_c_norm = zeros(N)\n",
    "    F_norm = zeros(N)\n",
    "    τ_norm = zeros(N)\n",
    "    \n",
    "    for i=1:N\n",
    "        V_inf[i, :] = - qrot(qconj(q[i, :]), v[i, :])\n",
    "        velocity_norm[i] = norm(v[i, :])\n",
    "    end\n",
    "    \n",
    "    α = atan.(sqrt.(V_inf[:, 2].^2 + V_inf[:, 3].^2) ./ V_inf[:, 1])\n",
    "    for i=1:N\n",
    "        altitude[i] = norm(sol_x[i, 1:3]) - params[\"r_p\"]\n",
    "        ρ_inf = params[\"ρ_0\"]\n",
    "\n",
    "        F_hat = params[\"F_hat\"]\n",
    "        τ_hat = params[\"τ_hat\"]\n",
    "        F_a[i, :], τ_a[i, :] = illuminated_aerodynamics_online(F_hat, τ_hat, ρ_inf, V_inf[i, :])\n",
    "        # Compute force norms and torque norms\n",
    "        F_a_norm[i] = norm(F_a[i, :])\n",
    "        τ_a_norm[i] = norm(τ_a[i, :])\n",
    "        \n",
    "        if i < N\n",
    "            # Control forces and moments in body_frame\n",
    "            F_c[i, :], τ_c[i, :] = reaction_control_system(sol_u[i, :], params)\n",
    "        else\n",
    "            F_c[i, :], τ_c[i, :] = [0, 0, 0], [0, 0, 0]\n",
    "        end\n",
    "        # Forces and moments in body-frame\n",
    "        F[i, :] = F_a[i, :] + F_c[i, :]\n",
    "        τ[i, :] = τ_a[i, :] + τ_c[i, :]\n",
    "\n",
    "        # Compute force norms and torque norms\n",
    "        F_a_norm[i] = norm(F_a[i, :])\n",
    "        τ_a_norm[i] = norm(τ_a[i, :])\n",
    "        F_c_norm[i] = norm(F_c[i, :])\n",
    "        τ_c_norm[i] = norm(τ_c[i, :])\n",
    "        F_norm[i] = norm(F[i, :])\n",
    "        τ_norm[i] = norm(τ[i, :])\n",
    "    end\n",
    "    sol_x = cat(dims=2, sol_x, α) \n",
    "    sol_x = cat(dims=2, sol_x, altitude)    \n",
    "    sol_x = cat(dims=2, sol_x, velocity_norm) \n",
    "    sol_x = cat(dims=2, sol_x, V_inf)\n",
    "    \n",
    "    sol_x = cat(dims=2, sol_x, F_a)\n",
    "    sol_x = cat(dims=2, sol_x, F_a_norm)   \n",
    "    sol_x = cat(dims=2, sol_x, τ_a)\n",
    "    sol_x = cat(dims=2, sol_x, τ_a_norm)   \n",
    "    sol_x = cat(dims=2, sol_x, F)\n",
    "    sol_x = cat(dims=2, sol_x, F_norm)   \n",
    "    sol_x = cat(dims=2, sol_x, τ)\n",
    "    sol_x = cat(dims=2, sol_x, τ_norm)  \n",
    "    \n",
    "    sol_u = cat(dims=2, sol_u, F_c[1:N-1, :])\n",
    "    sol_u = cat(dims=2, sol_u, F_c_norm[1:N-1, :])   \n",
    "    sol_u = cat(dims=2, sol_u, τ_c[1:N-1, :])\n",
    "    sol_u = cat(dims=2, sol_u, τ_c_norm[1:N-1, :])   \n",
    "    return sol_x, sol_u, sol_t\n",
    "end\n",
    "sol_x, sol_u, sol_t = process_solution(solver, results, params);"
   ]
  },
  {
   "cell_type": "code",
   "execution_count": 9,
   "metadata": {
    "scrolled": false
   },
   "outputs": [
    {
     "ename": "UndefVarError",
     "evalue": "UndefVarError: sol_x not defined",
     "output_type": "error",
     "traceback": [
      "UndefVarError: sol_x not defined",
      "",
      "Stacktrace:",
      " [1] top-level scope at In[9]:70"
     ]
    }
   ],
   "source": [
    "function plot_state_trajectory(sol_x, sol_t, params; display=true)\n",
    "    figure(figsize=(15,30))\n",
    "    labels = [\"x\", \"y\", \"z\", \n",
    "        \"q1\", \"q2\", \"q3\", \"q4\", \n",
    "        \"̇x\", \"̇y\", \"̇z\",\n",
    "        \"w1\", \"w2\", \"w3\", \n",
    "        \"alpha\", \n",
    "        \"altitude\", \n",
    "        \"velocity_norm\",\n",
    "        \"V_inf_x\", \"V_inf_y\", \"V_inf_z\",\n",
    "        \"F_a_X\", \"F_a_Y\", \"F_a_Z\", \"F_a_norm\",\n",
    "        \"τ_a_l\", \"τ_a_m\", \"τ_a_n\", \"τ_a_norm\",\n",
    "        \"F_X\", \"F_Y\", \"F_Z\", \"F_norm\",\n",
    "        \"τ_l\", \"τ_m\", \"τ_n\", \"τ_norm\"]\n",
    "    units = [\"m\", \"m\", \"m\", \n",
    "        \"n.u.\", \"n.u.\", \"n.u.\", \"n.u.\",\n",
    "        \"m/s\", \"m/s\", \"m/s\", \n",
    "        \"rad/s\", \"rad/s\", \"rad/s\", \n",
    "        \"rad\",\n",
    "        \"m\",\n",
    "        \"m/s\",\n",
    "        \"m/s\", \"m/s\", \"m/s\", \n",
    "        \"N\", \"N\", \"N\", \"N\", \n",
    "        \"N.m\", \"N.m\", \"N.m\", \"N.m\", \n",
    "        \"N\", \"N\", \"N\", \"N\", \n",
    "        \"N.m\", \"N.m\", \"N.m\", \"N.m\"]\n",
    "    indexes = [1, 2, 3,\n",
    "        5, 6, 7, 8,\n",
    "        9, 10, 11,\n",
    "        13, 14, 15,\n",
    "        17,\n",
    "        4, \n",
    "        12, \n",
    "        21, 22, 23,\n",
    "        25, 26, 27, 28,\n",
    "        29, 30, 31, 32, \n",
    "        33, 34, 35, 36, \n",
    "        37, 38, 39, 40]\n",
    "    y_lims = [nothing, nothing, nothing,\n",
    "        (-1, 1), (-1, 1), (-1, 1), (-1, 1), \n",
    "        nothing, nothing, nothing,\n",
    "        nothing, nothing, nothing,\n",
    "        (-pi/2, pi/2),\n",
    "        nothing,\n",
    "        nothing,\n",
    "        nothing, nothing, nothing,\n",
    "        nothing, nothing, nothing, nothing,\n",
    "        nothing, nothing, nothing, nothing,\n",
    "        nothing, nothing, nothing, nothing,\n",
    "        nothing, nothing, nothing, nothing]\n",
    "    \n",
    "    for i=1:length(labels)\n",
    "        sol_y = sol_x[:, i]\n",
    "        subplot(10, 4, indexes[i])\n",
    "        plot(sol_t, sol_y, color=\"blue\", linewidth=1.0, \n",
    "            linestyle=\"-\", label=labels[i])\n",
    "        legend()\n",
    "        title(labels[i])\n",
    "        grid(\"on\")\n",
    "        xlabel(\"time in s\")\n",
    "        ylabel(units[i])\n",
    "        ylim(y_lims[i])     \n",
    "    end\n",
    "    if display\n",
    "        tight_layout() \n",
    "        show()\n",
    "    end\n",
    "    return\n",
    "end\n",
    "\n",
    "plot_state_trajectory(sol_x, sol_t, params)"
   ]
  },
  {
   "cell_type": "code",
   "execution_count": 10,
   "metadata": {},
   "outputs": [
    {
     "ename": "UndefVarError",
     "evalue": "UndefVarError: sol_u not defined",
     "output_type": "error",
     "traceback": [
      "UndefVarError: sol_u not defined",
      "",
      "Stacktrace:",
      " [1] top-level scope at In[10]:49"
     ]
    }
   ],
   "source": [
    "function plot_control_trajectory(sol_u, sol_t, params; display=true)\n",
    "    figure(figsize=(15,25))\n",
    "    labels = [\"T11\", \"T12\", \"T13\", \n",
    "        \"T21\", \"T22\", \"T23\",\n",
    "        \"T31\", \"T32\", \"T33\", \n",
    "        \"T41\", \"T42\", \"T43\", \n",
    "        \"F_c_x\", \"F_c_y\", \"F_c_z\", \"F_c_norm\",\n",
    "        \"τ_c_x\", \"τ_c_y\", \"τ_c_z\", \"τ_c_norm\"]\n",
    "        \n",
    "    units = [\"N\", \"N\", \"N\", \n",
    "        \"N\", \"N\", \"N\", \n",
    "        \"N\", \"N\", \"N\", \n",
    "        \"N\", \"N\", \"N\", \n",
    "        \"N\", \"N\", \"N\", \"N\",\n",
    "        \"N\", \"N\", \"N\", \"N\"]\n",
    "\n",
    "    indexes = [1, 2, 3,\n",
    "        5, 6, 7,\n",
    "        9, 10, 11,\n",
    "        13, 14, 15,\n",
    "        17, 18, 19, 20, \n",
    "        21, 22, 23, 24]\n",
    "    \n",
    "    y_lims = [nothing, nothing, nothing,\n",
    "        nothing, nothing, nothing,\n",
    "        nothing, nothing, nothing,\n",
    "        nothing, nothing, nothing,\n",
    "        nothing, nothing, nothing, nothing,\n",
    "        nothing, nothing, nothing, nothing,]\n",
    "    \n",
    "    for i=1:length(labels)\n",
    "        sol_y = sol_u[:, i]\n",
    "        subplot(6, 4, indexes[i])\n",
    "        plot(sol_t[1:end-1], sol_y, color=\"blue\", linewidth=1.0, \n",
    "            linestyle=\"-\", label=labels[i])\n",
    "        legend()\n",
    "        title(labels[i])\n",
    "        grid(\"on\")\n",
    "        xlabel(\"time in s\")\n",
    "        ylabel(units[i])\n",
    "        ylim(y_lims[i])     # set the ylim to bottom, top\n",
    "    end\n",
    "    if display\n",
    "        tight_layout() \n",
    "        show()\n",
    "    end\n",
    "    return\n",
    "end\n",
    "\n",
    "plot_control_trajectory(sol_u, sol_t, params)"
   ]
  },
  {
   "cell_type": "code",
   "execution_count": null,
   "metadata": {},
   "outputs": [],
   "source": []
  },
  {
   "cell_type": "code",
   "execution_count": null,
   "metadata": {},
   "outputs": [],
   "source": []
  },
  {
   "cell_type": "code",
   "execution_count": null,
   "metadata": {},
   "outputs": [],
   "source": []
  },
  {
   "cell_type": "code",
   "execution_count": null,
   "metadata": {},
   "outputs": [],
   "source": []
  },
  {
   "cell_type": "code",
   "execution_count": null,
   "metadata": {},
   "outputs": [],
   "source": []
  },
  {
   "cell_type": "code",
   "execution_count": null,
   "metadata": {},
   "outputs": [],
   "source": []
  },
  {
   "cell_type": "code",
   "execution_count": null,
   "metadata": {},
   "outputs": [],
   "source": []
  },
  {
   "cell_type": "code",
   "execution_count": null,
   "metadata": {},
   "outputs": [],
   "source": []
  },
  {
   "cell_type": "code",
   "execution_count": 11,
   "metadata": {},
   "outputs": [],
   "source": [
    "# plot(results.X,1:4)\n",
    "# solver.obj.xf\n",
    "# solver.obj.use_xf_equality_constraint "
   ]
  }
 ],
 "metadata": {
  "@webio": {
   "lastCommId": "7b5be0d1cad84e65a63a70e950cf8798",
   "lastKernelId": "cbef56d4-35ee-452b-9b0c-9e3f9e6407b9"
  },
  "kernelspec": {
   "display_name": "Julia 1.0.1",
   "language": "julia",
   "name": "julia-1.0"
  },
  "language_info": {
   "file_extension": ".jl",
   "mimetype": "application/julia",
   "name": "julia",
   "version": "1.0.1"
  }
 },
 "nbformat": 4,
 "nbformat_minor": 2
}
